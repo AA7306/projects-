{
  "nbformat": 4,
  "nbformat_minor": 0,
  "metadata": {
    "colab": {
      "provenance": []
    },
    "kernelspec": {
      "name": "python3",
      "display_name": "Python 3"
    },
    "language_info": {
      "name": "python"
    }
  },
  "cells": [
    {
      "cell_type": "markdown",
      "source": [
        "# object detection using mobile net ssd"
      ],
      "metadata": {
        "id": "ZtCMN0BkqZN5"
      }
    },
    {
      "cell_type": "code",
      "source": [
        "pip install pillow"
      ],
      "metadata": {
        "colab": {
          "base_uri": "https://localhost:8080/"
        },
        "id": "wmRKg4lMqdXg",
        "outputId": "8e0e5703-602b-41dd-ac87-39a4f619a722"
      },
      "execution_count": null,
      "outputs": [
        {
          "output_type": "stream",
          "name": "stdout",
          "text": [
            "Requirement already satisfied: pillow in /usr/local/lib/python3.11/dist-packages (11.3.0)\n"
          ]
        }
      ]
    },
    {
      "cell_type": "code",
      "source": [
        "from PIL import Image,ImageSequence\n",
        "import numpy as np\n",
        "import argparse\n",
        "import imutils\n",
        "import time\n",
        "import cv2\n",
        "from google.colab.patches import cv2_imshow\n",
        "from imutils.video import FPS\n",
        "\n"
      ],
      "metadata": {
        "id": "n2W1JOppq73B"
      },
      "execution_count": null,
      "outputs": []
    },
    {
      "cell_type": "code",
      "source": [
        "from google.colab import files\n",
        "files.upload()"
      ],
      "metadata": {
        "colab": {
          "base_uri": "https://localhost:8080/",
          "height": 1000
        },
        "collapsed": true,
        "id": "z4h4YQegsSZy",
        "outputId": "0902913a-ecfe-43cc-b1c3-b10d1e45d78d"
      },
      "execution_count": null,
      "outputs": [
        {
          "output_type": "display_data",
          "data": {
            "text/plain": [
              "<IPython.core.display.HTML object>"
            ],
            "text/html": [
              "\n",
              "     <input type=\"file\" id=\"files-35bfb01b-129c-493a-97dc-2755a247c462\" name=\"files[]\" multiple disabled\n",
              "        style=\"border:none\" />\n",
              "     <output id=\"result-35bfb01b-129c-493a-97dc-2755a247c462\">\n",
              "      Upload widget is only available when the cell has been executed in the\n",
              "      current browser session. Please rerun this cell to enable.\n",
              "      </output>\n",
              "      <script>// Copyright 2017 Google LLC\n",
              "//\n",
              "// Licensed under the Apache License, Version 2.0 (the \"License\");\n",
              "// you may not use this file except in compliance with the License.\n",
              "// You may obtain a copy of the License at\n",
              "//\n",
              "//      http://www.apache.org/licenses/LICENSE-2.0\n",
              "//\n",
              "// Unless required by applicable law or agreed to in writing, software\n",
              "// distributed under the License is distributed on an \"AS IS\" BASIS,\n",
              "// WITHOUT WARRANTIES OR CONDITIONS OF ANY KIND, either express or implied.\n",
              "// See the License for the specific language governing permissions and\n",
              "// limitations under the License.\n",
              "\n",
              "/**\n",
              " * @fileoverview Helpers for google.colab Python module.\n",
              " */\n",
              "(function(scope) {\n",
              "function span(text, styleAttributes = {}) {\n",
              "  const element = document.createElement('span');\n",
              "  element.textContent = text;\n",
              "  for (const key of Object.keys(styleAttributes)) {\n",
              "    element.style[key] = styleAttributes[key];\n",
              "  }\n",
              "  return element;\n",
              "}\n",
              "\n",
              "// Max number of bytes which will be uploaded at a time.\n",
              "const MAX_PAYLOAD_SIZE = 100 * 1024;\n",
              "\n",
              "function _uploadFiles(inputId, outputId) {\n",
              "  const steps = uploadFilesStep(inputId, outputId);\n",
              "  const outputElement = document.getElementById(outputId);\n",
              "  // Cache steps on the outputElement to make it available for the next call\n",
              "  // to uploadFilesContinue from Python.\n",
              "  outputElement.steps = steps;\n",
              "\n",
              "  return _uploadFilesContinue(outputId);\n",
              "}\n",
              "\n",
              "// This is roughly an async generator (not supported in the browser yet),\n",
              "// where there are multiple asynchronous steps and the Python side is going\n",
              "// to poll for completion of each step.\n",
              "// This uses a Promise to block the python side on completion of each step,\n",
              "// then passes the result of the previous step as the input to the next step.\n",
              "function _uploadFilesContinue(outputId) {\n",
              "  const outputElement = document.getElementById(outputId);\n",
              "  const steps = outputElement.steps;\n",
              "\n",
              "  const next = steps.next(outputElement.lastPromiseValue);\n",
              "  return Promise.resolve(next.value.promise).then((value) => {\n",
              "    // Cache the last promise value to make it available to the next\n",
              "    // step of the generator.\n",
              "    outputElement.lastPromiseValue = value;\n",
              "    return next.value.response;\n",
              "  });\n",
              "}\n",
              "\n",
              "/**\n",
              " * Generator function which is called between each async step of the upload\n",
              " * process.\n",
              " * @param {string} inputId Element ID of the input file picker element.\n",
              " * @param {string} outputId Element ID of the output display.\n",
              " * @return {!Iterable<!Object>} Iterable of next steps.\n",
              " */\n",
              "function* uploadFilesStep(inputId, outputId) {\n",
              "  const inputElement = document.getElementById(inputId);\n",
              "  inputElement.disabled = false;\n",
              "\n",
              "  const outputElement = document.getElementById(outputId);\n",
              "  outputElement.innerHTML = '';\n",
              "\n",
              "  const pickedPromise = new Promise((resolve) => {\n",
              "    inputElement.addEventListener('change', (e) => {\n",
              "      resolve(e.target.files);\n",
              "    });\n",
              "  });\n",
              "\n",
              "  const cancel = document.createElement('button');\n",
              "  inputElement.parentElement.appendChild(cancel);\n",
              "  cancel.textContent = 'Cancel upload';\n",
              "  const cancelPromise = new Promise((resolve) => {\n",
              "    cancel.onclick = () => {\n",
              "      resolve(null);\n",
              "    };\n",
              "  });\n",
              "\n",
              "  // Wait for the user to pick the files.\n",
              "  const files = yield {\n",
              "    promise: Promise.race([pickedPromise, cancelPromise]),\n",
              "    response: {\n",
              "      action: 'starting',\n",
              "    }\n",
              "  };\n",
              "\n",
              "  cancel.remove();\n",
              "\n",
              "  // Disable the input element since further picks are not allowed.\n",
              "  inputElement.disabled = true;\n",
              "\n",
              "  if (!files) {\n",
              "    return {\n",
              "      response: {\n",
              "        action: 'complete',\n",
              "      }\n",
              "    };\n",
              "  }\n",
              "\n",
              "  for (const file of files) {\n",
              "    const li = document.createElement('li');\n",
              "    li.append(span(file.name, {fontWeight: 'bold'}));\n",
              "    li.append(span(\n",
              "        `(${file.type || 'n/a'}) - ${file.size} bytes, ` +\n",
              "        `last modified: ${\n",
              "            file.lastModifiedDate ? file.lastModifiedDate.toLocaleDateString() :\n",
              "                                    'n/a'} - `));\n",
              "    const percent = span('0% done');\n",
              "    li.appendChild(percent);\n",
              "\n",
              "    outputElement.appendChild(li);\n",
              "\n",
              "    const fileDataPromise = new Promise((resolve) => {\n",
              "      const reader = new FileReader();\n",
              "      reader.onload = (e) => {\n",
              "        resolve(e.target.result);\n",
              "      };\n",
              "      reader.readAsArrayBuffer(file);\n",
              "    });\n",
              "    // Wait for the data to be ready.\n",
              "    let fileData = yield {\n",
              "      promise: fileDataPromise,\n",
              "      response: {\n",
              "        action: 'continue',\n",
              "      }\n",
              "    };\n",
              "\n",
              "    // Use a chunked sending to avoid message size limits. See b/62115660.\n",
              "    let position = 0;\n",
              "    do {\n",
              "      const length = Math.min(fileData.byteLength - position, MAX_PAYLOAD_SIZE);\n",
              "      const chunk = new Uint8Array(fileData, position, length);\n",
              "      position += length;\n",
              "\n",
              "      const base64 = btoa(String.fromCharCode.apply(null, chunk));\n",
              "      yield {\n",
              "        response: {\n",
              "          action: 'append',\n",
              "          file: file.name,\n",
              "          data: base64,\n",
              "        },\n",
              "      };\n",
              "\n",
              "      let percentDone = fileData.byteLength === 0 ?\n",
              "          100 :\n",
              "          Math.round((position / fileData.byteLength) * 100);\n",
              "      percent.textContent = `${percentDone}% done`;\n",
              "\n",
              "    } while (position < fileData.byteLength);\n",
              "  }\n",
              "\n",
              "  // All done.\n",
              "  yield {\n",
              "    response: {\n",
              "      action: 'complete',\n",
              "    }\n",
              "  };\n",
              "}\n",
              "\n",
              "scope.google = scope.google || {};\n",
              "scope.google.colab = scope.google.colab || {};\n",
              "scope.google.colab._files = {\n",
              "  _uploadFiles,\n",
              "  _uploadFilesContinue,\n",
              "};\n",
              "})(self);\n",
              "</script> "
            ]
          },
          "metadata": {}
        },
        {
          "output_type": "stream",
          "name": "stdout",
          "text": [
            "Saving MobileNetSSD_deploy.prototxt.txt to MobileNetSSD_deploy.prototxt (1).txt\n"
          ]
        },
        {
          "output_type": "execute_result",
          "data": {
            "text/plain": [
              "{'MobileNetSSD_deploy.prototxt (1).txt': b'name: \"MobileNet-SSD\"\\ninput: \"data\"\\ninput_shape {\\n  dim: 1\\n  dim: 3\\n  dim: 300\\n  dim: 300\\n}\\nlayer {\\n  name: \"conv0\"\\n  type: \"Convolution\"\\n  bottom: \"data\"\\n  top: \"conv0\"\\n  param {\\n    lr_mult: 1.0\\n    decay_mult: 1.0\\n  }\\n  param {\\n    lr_mult: 2.0\\n    decay_mult: 0.0\\n  }\\n  convolution_param {\\n    num_output: 32\\n    pad: 1\\n    kernel_size: 3\\n    stride: 2\\n    weight_filler {\\n      type: \"msra\"\\n    }\\n    bias_filler {\\n      type: \"constant\"\\n      value: 0.0\\n    }\\n  }\\n}\\nlayer {\\n  name: \"conv0/relu\"\\n  type: \"ReLU\"\\n  bottom: \"conv0\"\\n  top: \"conv0\"\\n}\\nlayer {\\n  name: \"conv1/dw\"\\n  type: \"Convolution\"\\n  bottom: \"conv0\"\\n  top: \"conv1/dw\"\\n  param {\\n    lr_mult: 1.0\\n    decay_mult: 1.0\\n  }\\n  param {\\n    lr_mult: 2.0\\n    decay_mult: 0.0\\n  }\\n  convolution_param {\\n    num_output: 32\\n    pad: 1\\n    kernel_size: 3\\n    group: 32\\n    engine: CAFFE\\n    weight_filler {\\n      type: \"msra\"\\n    }\\n    bias_filler {\\n      type: \"constant\"\\n      value: 0.0\\n    }\\n  }\\n}\\nlayer {\\n  name: \"conv1/dw/relu\"\\n  type: \"ReLU\"\\n  bottom: \"conv1/dw\"\\n  top: \"conv1/dw\"\\n}\\nlayer {\\n  name: \"conv1\"\\n  type: \"Convolution\"\\n  bottom: \"conv1/dw\"\\n  top: \"conv1\"\\n  param {\\n    lr_mult: 1.0\\n    decay_mult: 1.0\\n  }\\n  param {\\n    lr_mult: 2.0\\n    decay_mult: 0.0\\n  }\\n  convolution_param {\\n    num_output: 64\\n    kernel_size: 1\\n    weight_filler {\\n      type: \"msra\"\\n    }\\n    bias_filler {\\n      type: \"constant\"\\n      value: 0.0\\n    }\\n  }\\n}\\nlayer {\\n  name: \"conv1/relu\"\\n  type: \"ReLU\"\\n  bottom: \"conv1\"\\n  top: \"conv1\"\\n}\\nlayer {\\n  name: \"conv2/dw\"\\n  type: \"Convolution\"\\n  bottom: \"conv1\"\\n  top: \"conv2/dw\"\\n  param {\\n    lr_mult: 1.0\\n    decay_mult: 1.0\\n  }\\n  param {\\n    lr_mult: 2.0\\n    decay_mult: 0.0\\n  }\\n  convolution_param {\\n    num_output: 64\\n    pad: 1\\n    kernel_size: 3\\n    stride: 2\\n    group: 64\\n    engine: CAFFE\\n    weight_filler {\\n      type: \"msra\"\\n    }\\n    bias_filler {\\n      type: \"constant\"\\n      value: 0.0\\n    }\\n  }\\n}\\nlayer {\\n  name: \"conv2/dw/relu\"\\n  type: \"ReLU\"\\n  bottom: \"conv2/dw\"\\n  top: \"conv2/dw\"\\n}\\nlayer {\\n  name: \"conv2\"\\n  type: \"Convolution\"\\n  bottom: \"conv2/dw\"\\n  top: \"conv2\"\\n  param {\\n    lr_mult: 1.0\\n    decay_mult: 1.0\\n  }\\n  param {\\n    lr_mult: 2.0\\n    decay_mult: 0.0\\n  }\\n  convolution_param {\\n    num_output: 128\\n    kernel_size: 1\\n    weight_filler {\\n      type: \"msra\"\\n    }\\n    bias_filler {\\n      type: \"constant\"\\n      value: 0.0\\n    }\\n  }\\n}\\nlayer {\\n  name: \"conv2/relu\"\\n  type: \"ReLU\"\\n  bottom: \"conv2\"\\n  top: \"conv2\"\\n}\\nlayer {\\n  name: \"conv3/dw\"\\n  type: \"Convolution\"\\n  bottom: \"conv2\"\\n  top: \"conv3/dw\"\\n  param {\\n    lr_mult: 1.0\\n    decay_mult: 1.0\\n  }\\n  param {\\n    lr_mult: 2.0\\n    decay_mult: 0.0\\n  }\\n  convolution_param {\\n    num_output: 128\\n    pad: 1\\n    kernel_size: 3\\n    group: 128\\n    engine: CAFFE\\n    weight_filler {\\n      type: \"msra\"\\n    }\\n    bias_filler {\\n      type: \"constant\"\\n      value: 0.0\\n    }\\n  }\\n}\\nlayer {\\n  name: \"conv3/dw/relu\"\\n  type: \"ReLU\"\\n  bottom: \"conv3/dw\"\\n  top: \"conv3/dw\"\\n}\\nlayer {\\n  name: \"conv3\"\\n  type: \"Convolution\"\\n  bottom: \"conv3/dw\"\\n  top: \"conv3\"\\n  param {\\n    lr_mult: 1.0\\n    decay_mult: 1.0\\n  }\\n  param {\\n    lr_mult: 2.0\\n    decay_mult: 0.0\\n  }\\n  convolution_param {\\n    num_output: 128\\n    kernel_size: 1\\n    weight_filler {\\n      type: \"msra\"\\n    }\\n    bias_filler {\\n      type: \"constant\"\\n      value: 0.0\\n    }\\n  }\\n}\\nlayer {\\n  name: \"conv3/relu\"\\n  type: \"ReLU\"\\n  bottom: \"conv3\"\\n  top: \"conv3\"\\n}\\nlayer {\\n  name: \"conv4/dw\"\\n  type: \"Convolution\"\\n  bottom: \"conv3\"\\n  top: \"conv4/dw\"\\n  param {\\n    lr_mult: 1.0\\n    decay_mult: 1.0\\n  }\\n  param {\\n    lr_mult: 2.0\\n    decay_mult: 0.0\\n  }\\n  convolution_param {\\n    num_output: 128\\n    pad: 1\\n    kernel_size: 3\\n    stride: 2\\n    group: 128\\n    engine: CAFFE\\n    weight_filler {\\n      type: \"msra\"\\n    }\\n    bias_filler {\\n      type: \"constant\"\\n      value: 0.0\\n    }\\n  }\\n}\\nlayer {\\n  name: \"conv4/dw/relu\"\\n  type: \"ReLU\"\\n  bottom: \"conv4/dw\"\\n  top: \"conv4/dw\"\\n}\\nlayer {\\n  name: \"conv4\"\\n  type: \"Convolution\"\\n  bottom: \"conv4/dw\"\\n  top: \"conv4\"\\n  param {\\n    lr_mult: 1.0\\n    decay_mult: 1.0\\n  }\\n  param {\\n    lr_mult: 2.0\\n    decay_mult: 0.0\\n  }\\n  convolution_param {\\n    num_output: 256\\n    kernel_size: 1\\n    weight_filler {\\n      type: \"msra\"\\n    }\\n    bias_filler {\\n      type: \"constant\"\\n      value: 0.0\\n    }\\n  }\\n}\\nlayer {\\n  name: \"conv4/relu\"\\n  type: \"ReLU\"\\n  bottom: \"conv4\"\\n  top: \"conv4\"\\n}\\nlayer {\\n  name: \"conv5/dw\"\\n  type: \"Convolution\"\\n  bottom: \"conv4\"\\n  top: \"conv5/dw\"\\n  param {\\n    lr_mult: 1.0\\n    decay_mult: 1.0\\n  }\\n  param {\\n    lr_mult: 2.0\\n    decay_mult: 0.0\\n  }\\n  convolution_param {\\n    num_output: 256\\n    pad: 1\\n    kernel_size: 3\\n    group: 256\\n    engine: CAFFE\\n    weight_filler {\\n      type: \"msra\"\\n    }\\n    bias_filler {\\n      type: \"constant\"\\n      value: 0.0\\n    }\\n  }\\n}\\nlayer {\\n  name: \"conv5/dw/relu\"\\n  type: \"ReLU\"\\n  bottom: \"conv5/dw\"\\n  top: \"conv5/dw\"\\n}\\nlayer {\\n  name: \"conv5\"\\n  type: \"Convolution\"\\n  bottom: \"conv5/dw\"\\n  top: \"conv5\"\\n  param {\\n    lr_mult: 1.0\\n    decay_mult: 1.0\\n  }\\n  param {\\n    lr_mult: 2.0\\n    decay_mult: 0.0\\n  }\\n  convolution_param {\\n    num_output: 256\\n    kernel_size: 1\\n    weight_filler {\\n      type: \"msra\"\\n    }\\n    bias_filler {\\n      type: \"constant\"\\n      value: 0.0\\n    }\\n  }\\n}\\nlayer {\\n  name: \"conv5/relu\"\\n  type: \"ReLU\"\\n  bottom: \"conv5\"\\n  top: \"conv5\"\\n}\\nlayer {\\n  name: \"conv6/dw\"\\n  type: \"Convolution\"\\n  bottom: \"conv5\"\\n  top: \"conv6/dw\"\\n  param {\\n    lr_mult: 1.0\\n    decay_mult: 1.0\\n  }\\n  param {\\n    lr_mult: 2.0\\n    decay_mult: 0.0\\n  }\\n  convolution_param {\\n    num_output: 256\\n    pad: 1\\n    kernel_size: 3\\n    stride: 2\\n    group: 256\\n    engine: CAFFE\\n    weight_filler {\\n      type: \"msra\"\\n    }\\n    bias_filler {\\n      type: \"constant\"\\n      value: 0.0\\n    }\\n  }\\n}\\nlayer {\\n  name: \"conv6/dw/relu\"\\n  type: \"ReLU\"\\n  bottom: \"conv6/dw\"\\n  top: \"conv6/dw\"\\n}\\nlayer {\\n  name: \"conv6\"\\n  type: \"Convolution\"\\n  bottom: \"conv6/dw\"\\n  top: \"conv6\"\\n  param {\\n    lr_mult: 1.0\\n    decay_mult: 1.0\\n  }\\n  param {\\n    lr_mult: 2.0\\n    decay_mult: 0.0\\n  }\\n  convolution_param {\\n    num_output: 512\\n    kernel_size: 1\\n    weight_filler {\\n      type: \"msra\"\\n    }\\n    bias_filler {\\n      type: \"constant\"\\n      value: 0.0\\n    }\\n  }\\n}\\nlayer {\\n  name: \"conv6/relu\"\\n  type: \"ReLU\"\\n  bottom: \"conv6\"\\n  top: \"conv6\"\\n}\\nlayer {\\n  name: \"conv7/dw\"\\n  type: \"Convolution\"\\n  bottom: \"conv6\"\\n  top: \"conv7/dw\"\\n  param {\\n    lr_mult: 1.0\\n    decay_mult: 1.0\\n  }\\n  param {\\n    lr_mult: 2.0\\n    decay_mult: 0.0\\n  }\\n  convolution_param {\\n    num_output: 512\\n    pad: 1\\n    kernel_size: 3\\n    group: 512\\n    engine: CAFFE\\n    weight_filler {\\n      type: \"msra\"\\n    }\\n    bias_filler {\\n      type: \"constant\"\\n      value: 0.0\\n    }\\n  }\\n}\\nlayer {\\n  name: \"conv7/dw/relu\"\\n  type: \"ReLU\"\\n  bottom: \"conv7/dw\"\\n  top: \"conv7/dw\"\\n}\\nlayer {\\n  name: \"conv7\"\\n  type: \"Convolution\"\\n  bottom: \"conv7/dw\"\\n  top: \"conv7\"\\n  param {\\n    lr_mult: 1.0\\n    decay_mult: 1.0\\n  }\\n  param {\\n    lr_mult: 2.0\\n    decay_mult: 0.0\\n  }\\n  convolution_param {\\n    num_output: 512\\n    kernel_size: 1\\n    weight_filler {\\n      type: \"msra\"\\n    }\\n    bias_filler {\\n      type: \"constant\"\\n      value: 0.0\\n    }\\n  }\\n}\\nlayer {\\n  name: \"conv7/relu\"\\n  type: \"ReLU\"\\n  bottom: \"conv7\"\\n  top: \"conv7\"\\n}\\nlayer {\\n  name: \"conv8/dw\"\\n  type: \"Convolution\"\\n  bottom: \"conv7\"\\n  top: \"conv8/dw\"\\n  param {\\n    lr_mult: 1.0\\n    decay_mult: 1.0\\n  }\\n  param {\\n    lr_mult: 2.0\\n    decay_mult: 0.0\\n  }\\n  convolution_param {\\n    num_output: 512\\n    pad: 1\\n    kernel_size: 3\\n    group: 512\\n    engine: CAFFE\\n    weight_filler {\\n      type: \"msra\"\\n    }\\n    bias_filler {\\n      type: \"constant\"\\n      value: 0.0\\n    }\\n  }\\n}\\nlayer {\\n  name: \"conv8/dw/relu\"\\n  type: \"ReLU\"\\n  bottom: \"conv8/dw\"\\n  top: \"conv8/dw\"\\n}\\nlayer {\\n  name: \"conv8\"\\n  type: \"Convolution\"\\n  bottom: \"conv8/dw\"\\n  top: \"conv8\"\\n  param {\\n    lr_mult: 1.0\\n    decay_mult: 1.0\\n  }\\n  param {\\n    lr_mult: 2.0\\n    decay_mult: 0.0\\n  }\\n  convolution_param {\\n    num_output: 512\\n    kernel_size: 1\\n    weight_filler {\\n      type: \"msra\"\\n    }\\n    bias_filler {\\n      type: \"constant\"\\n      value: 0.0\\n    }\\n  }\\n}\\nlayer {\\n  name: \"conv8/relu\"\\n  type: \"ReLU\"\\n  bottom: \"conv8\"\\n  top: \"conv8\"\\n}\\nlayer {\\n  name: \"conv9/dw\"\\n  type: \"Convolution\"\\n  bottom: \"conv8\"\\n  top: \"conv9/dw\"\\n  param {\\n    lr_mult: 1.0\\n    decay_mult: 1.0\\n  }\\n  param {\\n    lr_mult: 2.0\\n    decay_mult: 0.0\\n  }\\n  convolution_param {\\n    num_output: 512\\n    pad: 1\\n    kernel_size: 3\\n    group: 512\\n    engine: CAFFE\\n    weight_filler {\\n      type: \"msra\"\\n    }\\n    bias_filler {\\n      type: \"constant\"\\n      value: 0.0\\n    }\\n  }\\n}\\nlayer {\\n  name: \"conv9/dw/relu\"\\n  type: \"ReLU\"\\n  bottom: \"conv9/dw\"\\n  top: \"conv9/dw\"\\n}\\nlayer {\\n  name: \"conv9\"\\n  type: \"Convolution\"\\n  bottom: \"conv9/dw\"\\n  top: \"conv9\"\\n  param {\\n    lr_mult: 1.0\\n    decay_mult: 1.0\\n  }\\n  param {\\n    lr_mult: 2.0\\n    decay_mult: 0.0\\n  }\\n  convolution_param {\\n    num_output: 512\\n    kernel_size: 1\\n    weight_filler {\\n      type: \"msra\"\\n    }\\n    bias_filler {\\n      type: \"constant\"\\n      value: 0.0\\n    }\\n  }\\n}\\nlayer {\\n  name: \"conv9/relu\"\\n  type: \"ReLU\"\\n  bottom: \"conv9\"\\n  top: \"conv9\"\\n}\\nlayer {\\n  name: \"conv10/dw\"\\n  type: \"Convolution\"\\n  bottom: \"conv9\"\\n  top: \"conv10/dw\"\\n  param {\\n    lr_mult: 1.0\\n    decay_mult: 1.0\\n  }\\n  param {\\n    lr_mult: 2.0\\n    decay_mult: 0.0\\n  }\\n  convolution_param {\\n    num_output: 512\\n    pad: 1\\n    kernel_size: 3\\n    group: 512\\n    engine: CAFFE\\n    weight_filler {\\n      type: \"msra\"\\n    }\\n    bias_filler {\\n      type: \"constant\"\\n      value: 0.0\\n    }\\n  }\\n}\\nlayer {\\n  name: \"conv10/dw/relu\"\\n  type: \"ReLU\"\\n  bottom: \"conv10/dw\"\\n  top: \"conv10/dw\"\\n}\\nlayer {\\n  name: \"conv10\"\\n  type: \"Convolution\"\\n  bottom: \"conv10/dw\"\\n  top: \"conv10\"\\n  param {\\n    lr_mult: 1.0\\n    decay_mult: 1.0\\n  }\\n  param {\\n    lr_mult: 2.0\\n    decay_mult: 0.0\\n  }\\n  convolution_param {\\n    num_output: 512\\n    kernel_size: 1\\n    weight_filler {\\n      type: \"msra\"\\n    }\\n    bias_filler {\\n      type: \"constant\"\\n      value: 0.0\\n    }\\n  }\\n}\\nlayer {\\n  name: \"conv10/relu\"\\n  type: \"ReLU\"\\n  bottom: \"conv10\"\\n  top: \"conv10\"\\n}\\nlayer {\\n  name: \"conv11/dw\"\\n  type: \"Convolution\"\\n  bottom: \"conv10\"\\n  top: \"conv11/dw\"\\n  param {\\n    lr_mult: 1.0\\n    decay_mult: 1.0\\n  }\\n  param {\\n    lr_mult: 2.0\\n    decay_mult: 0.0\\n  }\\n  convolution_param {\\n    num_output: 512\\n    pad: 1\\n    kernel_size: 3\\n    group: 512\\n    engine: CAFFE\\n    weight_filler {\\n      type: \"msra\"\\n    }\\n    bias_filler {\\n      type: \"constant\"\\n      value: 0.0\\n    }\\n  }\\n}\\nlayer {\\n  name: \"conv11/dw/relu\"\\n  type: \"ReLU\"\\n  bottom: \"conv11/dw\"\\n  top: \"conv11/dw\"\\n}\\nlayer {\\n  name: \"conv11\"\\n  type: \"Convolution\"\\n  bottom: \"conv11/dw\"\\n  top: \"conv11\"\\n  param {\\n    lr_mult: 1.0\\n    decay_mult: 1.0\\n  }\\n  param {\\n    lr_mult: 2.0\\n    decay_mult: 0.0\\n  }\\n  convolution_param {\\n    num_output: 512\\n    kernel_size: 1\\n    weight_filler {\\n      type: \"msra\"\\n    }\\n    bias_filler {\\n      type: \"constant\"\\n      value: 0.0\\n    }\\n  }\\n}\\nlayer {\\n  name: \"conv11/relu\"\\n  type: \"ReLU\"\\n  bottom: \"conv11\"\\n  top: \"conv11\"\\n}\\nlayer {\\n  name: \"conv12/dw\"\\n  type: \"Convolution\"\\n  bottom: \"conv11\"\\n  top: \"conv12/dw\"\\n  param {\\n    lr_mult: 1.0\\n    decay_mult: 1.0\\n  }\\n  param {\\n    lr_mult: 2.0\\n    decay_mult: 0.0\\n  }\\n  convolution_param {\\n    num_output: 512\\n    pad: 1\\n    kernel_size: 3\\n    stride: 2\\n    group: 512\\n    engine: CAFFE\\n    weight_filler {\\n      type: \"msra\"\\n    }\\n    bias_filler {\\n      type: \"constant\"\\n      value: 0.0\\n    }\\n  }\\n}\\nlayer {\\n  name: \"conv12/dw/relu\"\\n  type: \"ReLU\"\\n  bottom: \"conv12/dw\"\\n  top: \"conv12/dw\"\\n}\\nlayer {\\n  name: \"conv12\"\\n  type: \"Convolution\"\\n  bottom: \"conv12/dw\"\\n  top: \"conv12\"\\n  param {\\n    lr_mult: 1.0\\n    decay_mult: 1.0\\n  }\\n  param {\\n    lr_mult: 2.0\\n    decay_mult: 0.0\\n  }\\n  convolution_param {\\n    num_output: 1024\\n    kernel_size: 1\\n    weight_filler {\\n      type: \"msra\"\\n    }\\n    bias_filler {\\n      type: \"constant\"\\n      value: 0.0\\n    }\\n  }\\n}\\nlayer {\\n  name: \"conv12/relu\"\\n  type: \"ReLU\"\\n  bottom: \"conv12\"\\n  top: \"conv12\"\\n}\\nlayer {\\n  name: \"conv13/dw\"\\n  type: \"Convolution\"\\n  bottom: \"conv12\"\\n  top: \"conv13/dw\"\\n  param {\\n    lr_mult: 1.0\\n    decay_mult: 1.0\\n  }\\n  param {\\n    lr_mult: 2.0\\n    decay_mult: 0.0\\n  }\\n  convolution_param {\\n    num_output: 1024\\n    pad: 1\\n    kernel_size: 3\\n    group: 1024\\n    engine: CAFFE\\n    weight_filler {\\n      type: \"msra\"\\n    }\\n    bias_filler {\\n      type: \"constant\"\\n      value: 0.0\\n    }\\n  }\\n}\\nlayer {\\n  name: \"conv13/dw/relu\"\\n  type: \"ReLU\"\\n  bottom: \"conv13/dw\"\\n  top: \"conv13/dw\"\\n}\\nlayer {\\n  name: \"conv13\"\\n  type: \"Convolution\"\\n  bottom: \"conv13/dw\"\\n  top: \"conv13\"\\n  param {\\n    lr_mult: 1.0\\n    decay_mult: 1.0\\n  }\\n  param {\\n    lr_mult: 2.0\\n    decay_mult: 0.0\\n  }\\n  convolution_param {\\n    num_output: 1024\\n    kernel_size: 1\\n    weight_filler {\\n      type: \"msra\"\\n    }\\n    bias_filler {\\n      type: \"constant\"\\n      value: 0.0\\n    }\\n  }\\n}\\nlayer {\\n  name: \"conv13/relu\"\\n  type: \"ReLU\"\\n  bottom: \"conv13\"\\n  top: \"conv13\"\\n}\\nlayer {\\n  name: \"conv14_1\"\\n  type: \"Convolution\"\\n  bottom: \"conv13\"\\n  top: \"conv14_1\"\\n  param {\\n    lr_mult: 1.0\\n    decay_mult: 1.0\\n  }\\n  param {\\n    lr_mult: 2.0\\n    decay_mult: 0.0\\n  }\\n  convolution_param {\\n    num_output: 256\\n    kernel_size: 1\\n    weight_filler {\\n      type: \"msra\"\\n    }\\n    bias_filler {\\n      type: \"constant\"\\n      value: 0.0\\n    }\\n  }\\n}\\nlayer {\\n  name: \"conv14_1/relu\"\\n  type: \"ReLU\"\\n  bottom: \"conv14_1\"\\n  top: \"conv14_1\"\\n}\\nlayer {\\n  name: \"conv14_2\"\\n  type: \"Convolution\"\\n  bottom: \"conv14_1\"\\n  top: \"conv14_2\"\\n  param {\\n    lr_mult: 1.0\\n    decay_mult: 1.0\\n  }\\n  param {\\n    lr_mult: 2.0\\n    decay_mult: 0.0\\n  }\\n  convolution_param {\\n    num_output: 512\\n    pad: 1\\n    kernel_size: 3\\n    stride: 2\\n    weight_filler {\\n      type: \"msra\"\\n    }\\n    bias_filler {\\n      type: \"constant\"\\n      value: 0.0\\n    }\\n  }\\n}\\nlayer {\\n  name: \"conv14_2/relu\"\\n  type: \"ReLU\"\\n  bottom: \"conv14_2\"\\n  top: \"conv14_2\"\\n}\\nlayer {\\n  name: \"conv15_1\"\\n  type: \"Convolution\"\\n  bottom: \"conv14_2\"\\n  top: \"conv15_1\"\\n  param {\\n    lr_mult: 1.0\\n    decay_mult: 1.0\\n  }\\n  param {\\n    lr_mult: 2.0\\n    decay_mult: 0.0\\n  }\\n  convolution_param {\\n    num_output: 128\\n    kernel_size: 1\\n    weight_filler {\\n      type: \"msra\"\\n    }\\n    bias_filler {\\n      type: \"constant\"\\n      value: 0.0\\n    }\\n  }\\n}\\nlayer {\\n  name: \"conv15_1/relu\"\\n  type: \"ReLU\"\\n  bottom: \"conv15_1\"\\n  top: \"conv15_1\"\\n}\\nlayer {\\n  name: \"conv15_2\"\\n  type: \"Convolution\"\\n  bottom: \"conv15_1\"\\n  top: \"conv15_2\"\\n  param {\\n    lr_mult: 1.0\\n    decay_mult: 1.0\\n  }\\n  param {\\n    lr_mult: 2.0\\n    decay_mult: 0.0\\n  }\\n  convolution_param {\\n    num_output: 256\\n    pad: 1\\n    kernel_size: 3\\n    stride: 2\\n    weight_filler {\\n      type: \"msra\"\\n    }\\n    bias_filler {\\n      type: \"constant\"\\n      value: 0.0\\n    }\\n  }\\n}\\nlayer {\\n  name: \"conv15_2/relu\"\\n  type: \"ReLU\"\\n  bottom: \"conv15_2\"\\n  top: \"conv15_2\"\\n}\\nlayer {\\n  name: \"conv16_1\"\\n  type: \"Convolution\"\\n  bottom: \"conv15_2\"\\n  top: \"conv16_1\"\\n  param {\\n    lr_mult: 1.0\\n    decay_mult: 1.0\\n  }\\n  param {\\n    lr_mult: 2.0\\n    decay_mult: 0.0\\n  }\\n  convolution_param {\\n    num_output: 128\\n    kernel_size: 1\\n    weight_filler {\\n      type: \"msra\"\\n    }\\n    bias_filler {\\n      type: \"constant\"\\n      value: 0.0\\n    }\\n  }\\n}\\nlayer {\\n  name: \"conv16_1/relu\"\\n  type: \"ReLU\"\\n  bottom: \"conv16_1\"\\n  top: \"conv16_1\"\\n}\\nlayer {\\n  name: \"conv16_2\"\\n  type: \"Convolution\"\\n  bottom: \"conv16_1\"\\n  top: \"conv16_2\"\\n  param {\\n    lr_mult: 1.0\\n    decay_mult: 1.0\\n  }\\n  param {\\n    lr_mult: 2.0\\n    decay_mult: 0.0\\n  }\\n  convolution_param {\\n    num_output: 256\\n    pad: 1\\n    kernel_size: 3\\n    stride: 2\\n    weight_filler {\\n      type: \"msra\"\\n    }\\n    bias_filler {\\n      type: \"constant\"\\n      value: 0.0\\n    }\\n  }\\n}\\nlayer {\\n  name: \"conv16_2/relu\"\\n  type: \"ReLU\"\\n  bottom: \"conv16_2\"\\n  top: \"conv16_2\"\\n}\\nlayer {\\n  name: \"conv17_1\"\\n  type: \"Convolution\"\\n  bottom: \"conv16_2\"\\n  top: \"conv17_1\"\\n  param {\\n    lr_mult: 1.0\\n    decay_mult: 1.0\\n  }\\n  param {\\n    lr_mult: 2.0\\n    decay_mult: 0.0\\n  }\\n  convolution_param {\\n    num_output: 64\\n    kernel_size: 1\\n    weight_filler {\\n      type: \"msra\"\\n    }\\n    bias_filler {\\n      type: \"constant\"\\n      value: 0.0\\n    }\\n  }\\n}\\nlayer {\\n  name: \"conv17_1/relu\"\\n  type: \"ReLU\"\\n  bottom: \"conv17_1\"\\n  top: \"conv17_1\"\\n}\\nlayer {\\n  name: \"conv17_2\"\\n  type: \"Convolution\"\\n  bottom: \"conv17_1\"\\n  top: \"conv17_2\"\\n  param {\\n    lr_mult: 1.0\\n    decay_mult: 1.0\\n  }\\n  param {\\n    lr_mult: 2.0\\n    decay_mult: 0.0\\n  }\\n  convolution_param {\\n    num_output: 128\\n    pad: 1\\n    kernel_size: 3\\n    stride: 2\\n    weight_filler {\\n      type: \"msra\"\\n    }\\n    bias_filler {\\n      type: \"constant\"\\n      value: 0.0\\n    }\\n  }\\n}\\nlayer {\\n  name: \"conv17_2/relu\"\\n  type: \"ReLU\"\\n  bottom: \"conv17_2\"\\n  top: \"conv17_2\"\\n}\\nlayer {\\n  name: \"conv11_mbox_loc\"\\n  type: \"Convolution\"\\n  bottom: \"conv11\"\\n  top: \"conv11_mbox_loc\"\\n  param {\\n    lr_mult: 1.0\\n    decay_mult: 1.0\\n  }\\n  param {\\n    lr_mult: 2.0\\n    decay_mult: 0.0\\n  }\\n  convolution_param {\\n    num_output: 12\\n    kernel_size: 1\\n    weight_filler {\\n      type: \"msra\"\\n    }\\n    bias_filler {\\n      type: \"constant\"\\n      value: 0.0\\n    }\\n  }\\n}\\nlayer {\\n  name: \"conv11_mbox_loc_perm\"\\n  type: \"Permute\"\\n  bottom: \"conv11_mbox_loc\"\\n  top: \"conv11_mbox_loc_perm\"\\n  permute_param {\\n    order: 0\\n    order: 2\\n    order: 3\\n    order: 1\\n  }\\n}\\nlayer {\\n  name: \"conv11_mbox_loc_flat\"\\n  type: \"Flatten\"\\n  bottom: \"conv11_mbox_loc_perm\"\\n  top: \"conv11_mbox_loc_flat\"\\n  flatten_param {\\n    axis: 1\\n  }\\n}\\nlayer {\\n  name: \"conv11_mbox_conf\"\\n  type: \"Convolution\"\\n  bottom: \"conv11\"\\n  top: \"conv11_mbox_conf\"\\n  param {\\n    lr_mult: 1.0\\n    decay_mult: 1.0\\n  }\\n  param {\\n    lr_mult: 2.0\\n    decay_mult: 0.0\\n  }\\n  convolution_param {\\n    num_output: 63\\n    kernel_size: 1\\n    weight_filler {\\n      type: \"msra\"\\n    }\\n    bias_filler {\\n      type: \"constant\"\\n      value: 0.0\\n    }\\n  }\\n}\\nlayer {\\n  name: \"conv11_mbox_conf_perm\"\\n  type: \"Permute\"\\n  bottom: \"conv11_mbox_conf\"\\n  top: \"conv11_mbox_conf_perm\"\\n  permute_param {\\n    order: 0\\n    order: 2\\n    order: 3\\n    order: 1\\n  }\\n}\\nlayer {\\n  name: \"conv11_mbox_conf_flat\"\\n  type: \"Flatten\"\\n  bottom: \"conv11_mbox_conf_perm\"\\n  top: \"conv11_mbox_conf_flat\"\\n  flatten_param {\\n    axis: 1\\n  }\\n}\\nlayer {\\n  name: \"conv11_mbox_priorbox\"\\n  type: \"PriorBox\"\\n  bottom: \"conv11\"\\n  bottom: \"data\"\\n  top: \"conv11_mbox_priorbox\"\\n  prior_box_param {\\n    min_size: 60.0\\n    aspect_ratio: 2.0\\n    flip: true\\n    clip: false\\n    variance: 0.1\\n    variance: 0.1\\n    variance: 0.2\\n    variance: 0.2\\n    offset: 0.5\\n  }\\n}\\nlayer {\\n  name: \"conv13_mbox_loc\"\\n  type: \"Convolution\"\\n  bottom: \"conv13\"\\n  top: \"conv13_mbox_loc\"\\n  param {\\n    lr_mult: 1.0\\n    decay_mult: 1.0\\n  }\\n  param {\\n    lr_mult: 2.0\\n    decay_mult: 0.0\\n  }\\n  convolution_param {\\n    num_output: 24\\n    kernel_size: 1\\n    weight_filler {\\n      type: \"msra\"\\n    }\\n    bias_filler {\\n      type: \"constant\"\\n      value: 0.0\\n    }\\n  }\\n}\\nlayer {\\n  name: \"conv13_mbox_loc_perm\"\\n  type: \"Permute\"\\n  bottom: \"conv13_mbox_loc\"\\n  top: \"conv13_mbox_loc_perm\"\\n  permute_param {\\n    order: 0\\n    order: 2\\n    order: 3\\n    order: 1\\n  }\\n}\\nlayer {\\n  name: \"conv13_mbox_loc_flat\"\\n  type: \"Flatten\"\\n  bottom: \"conv13_mbox_loc_perm\"\\n  top: \"conv13_mbox_loc_flat\"\\n  flatten_param {\\n    axis: 1\\n  }\\n}\\nlayer {\\n  name: \"conv13_mbox_conf\"\\n  type: \"Convolution\"\\n  bottom: \"conv13\"\\n  top: \"conv13_mbox_conf\"\\n  param {\\n    lr_mult: 1.0\\n    decay_mult: 1.0\\n  }\\n  param {\\n    lr_mult: 2.0\\n    decay_mult: 0.0\\n  }\\n  convolution_param {\\n    num_output: 126\\n    kernel_size: 1\\n    weight_filler {\\n      type: \"msra\"\\n    }\\n    bias_filler {\\n      type: \"constant\"\\n      value: 0.0\\n    }\\n  }\\n}\\nlayer {\\n  name: \"conv13_mbox_conf_perm\"\\n  type: \"Permute\"\\n  bottom: \"conv13_mbox_conf\"\\n  top: \"conv13_mbox_conf_perm\"\\n  permute_param {\\n    order: 0\\n    order: 2\\n    order: 3\\n    order: 1\\n  }\\n}\\nlayer {\\n  name: \"conv13_mbox_conf_flat\"\\n  type: \"Flatten\"\\n  bottom: \"conv13_mbox_conf_perm\"\\n  top: \"conv13_mbox_conf_flat\"\\n  flatten_param {\\n    axis: 1\\n  }\\n}\\nlayer {\\n  name: \"conv13_mbox_priorbox\"\\n  type: \"PriorBox\"\\n  bottom: \"conv13\"\\n  bottom: \"data\"\\n  top: \"conv13_mbox_priorbox\"\\n  prior_box_param {\\n    min_size: 105.0\\n    max_size: 150.0\\n    aspect_ratio: 2.0\\n    aspect_ratio: 3.0\\n    flip: true\\n    clip: false\\n    variance: 0.1\\n    variance: 0.1\\n    variance: 0.2\\n    variance: 0.2\\n    offset: 0.5\\n  }\\n}\\nlayer {\\n  name: \"conv14_2_mbox_loc\"\\n  type: \"Convolution\"\\n  bottom: \"conv14_2\"\\n  top: \"conv14_2_mbox_loc\"\\n  param {\\n    lr_mult: 1.0\\n    decay_mult: 1.0\\n  }\\n  param {\\n    lr_mult: 2.0\\n    decay_mult: 0.0\\n  }\\n  convolution_param {\\n    num_output: 24\\n    kernel_size: 1\\n    weight_filler {\\n      type: \"msra\"\\n    }\\n    bias_filler {\\n      type: \"constant\"\\n      value: 0.0\\n    }\\n  }\\n}\\nlayer {\\n  name: \"conv14_2_mbox_loc_perm\"\\n  type: \"Permute\"\\n  bottom: \"conv14_2_mbox_loc\"\\n  top: \"conv14_2_mbox_loc_perm\"\\n  permute_param {\\n    order: 0\\n    order: 2\\n    order: 3\\n    order: 1\\n  }\\n}\\nlayer {\\n  name: \"conv14_2_mbox_loc_flat\"\\n  type: \"Flatten\"\\n  bottom: \"conv14_2_mbox_loc_perm\"\\n  top: \"conv14_2_mbox_loc_flat\"\\n  flatten_param {\\n    axis: 1\\n  }\\n}\\nlayer {\\n  name: \"conv14_2_mbox_conf\"\\n  type: \"Convolution\"\\n  bottom: \"conv14_2\"\\n  top: \"conv14_2_mbox_conf\"\\n  param {\\n    lr_mult: 1.0\\n    decay_mult: 1.0\\n  }\\n  param {\\n    lr_mult: 2.0\\n    decay_mult: 0.0\\n  }\\n  convolution_param {\\n    num_output: 126\\n    kernel_size: 1\\n    weight_filler {\\n      type: \"msra\"\\n    }\\n    bias_filler {\\n      type: \"constant\"\\n      value: 0.0\\n    }\\n  }\\n}\\nlayer {\\n  name: \"conv14_2_mbox_conf_perm\"\\n  type: \"Permute\"\\n  bottom: \"conv14_2_mbox_conf\"\\n  top: \"conv14_2_mbox_conf_perm\"\\n  permute_param {\\n    order: 0\\n    order: 2\\n    order: 3\\n    order: 1\\n  }\\n}\\nlayer {\\n  name: \"conv14_2_mbox_conf_flat\"\\n  type: \"Flatten\"\\n  bottom: \"conv14_2_mbox_conf_perm\"\\n  top: \"conv14_2_mbox_conf_flat\"\\n  flatten_param {\\n    axis: 1\\n  }\\n}\\nlayer {\\n  name: \"conv14_2_mbox_priorbox\"\\n  type: \"PriorBox\"\\n  bottom: \"conv14_2\"\\n  bottom: \"data\"\\n  top: \"conv14_2_mbox_priorbox\"\\n  prior_box_param {\\n    min_size: 150.0\\n    max_size: 195.0\\n    aspect_ratio: 2.0\\n    aspect_ratio: 3.0\\n    flip: true\\n    clip: false\\n    variance: 0.1\\n    variance: 0.1\\n    variance: 0.2\\n    variance: 0.2\\n    offset: 0.5\\n  }\\n}\\nlayer {\\n  name: \"conv15_2_mbox_loc\"\\n  type: \"Convolution\"\\n  bottom: \"conv15_2\"\\n  top: \"conv15_2_mbox_loc\"\\n  param {\\n    lr_mult: 1.0\\n    decay_mult: 1.0\\n  }\\n  param {\\n    lr_mult: 2.0\\n    decay_mult: 0.0\\n  }\\n  convolution_param {\\n    num_output: 24\\n    kernel_size: 1\\n    weight_filler {\\n      type: \"msra\"\\n    }\\n    bias_filler {\\n      type: \"constant\"\\n      value: 0.0\\n    }\\n  }\\n}\\nlayer {\\n  name: \"conv15_2_mbox_loc_perm\"\\n  type: \"Permute\"\\n  bottom: \"conv15_2_mbox_loc\"\\n  top: \"conv15_2_mbox_loc_perm\"\\n  permute_param {\\n    order: 0\\n    order: 2\\n    order: 3\\n    order: 1\\n  }\\n}\\nlayer {\\n  name: \"conv15_2_mbox_loc_flat\"\\n  type: \"Flatten\"\\n  bottom: \"conv15_2_mbox_loc_perm\"\\n  top: \"conv15_2_mbox_loc_flat\"\\n  flatten_param {\\n    axis: 1\\n  }\\n}\\nlayer {\\n  name: \"conv15_2_mbox_conf\"\\n  type: \"Convolution\"\\n  bottom: \"conv15_2\"\\n  top: \"conv15_2_mbox_conf\"\\n  param {\\n    lr_mult: 1.0\\n    decay_mult: 1.0\\n  }\\n  param {\\n    lr_mult: 2.0\\n    decay_mult: 0.0\\n  }\\n  convolution_param {\\n    num_output: 126\\n    kernel_size: 1\\n    weight_filler {\\n      type: \"msra\"\\n    }\\n    bias_filler {\\n      type: \"constant\"\\n      value: 0.0\\n    }\\n  }\\n}\\nlayer {\\n  name: \"conv15_2_mbox_conf_perm\"\\n  type: \"Permute\"\\n  bottom: \"conv15_2_mbox_conf\"\\n  top: \"conv15_2_mbox_conf_perm\"\\n  permute_param {\\n    order: 0\\n    order: 2\\n    order: 3\\n    order: 1\\n  }\\n}\\nlayer {\\n  name: \"conv15_2_mbox_conf_flat\"\\n  type: \"Flatten\"\\n  bottom: \"conv15_2_mbox_conf_perm\"\\n  top: \"conv15_2_mbox_conf_flat\"\\n  flatten_param {\\n    axis: 1\\n  }\\n}\\nlayer {\\n  name: \"conv15_2_mbox_priorbox\"\\n  type: \"PriorBox\"\\n  bottom: \"conv15_2\"\\n  bottom: \"data\"\\n  top: \"conv15_2_mbox_priorbox\"\\n  prior_box_param {\\n    min_size: 195.0\\n    max_size: 240.0\\n    aspect_ratio: 2.0\\n    aspect_ratio: 3.0\\n    flip: true\\n    clip: false\\n    variance: 0.1\\n    variance: 0.1\\n    variance: 0.2\\n    variance: 0.2\\n    offset: 0.5\\n  }\\n}\\nlayer {\\n  name: \"conv16_2_mbox_loc\"\\n  type: \"Convolution\"\\n  bottom: \"conv16_2\"\\n  top: \"conv16_2_mbox_loc\"\\n  param {\\n    lr_mult: 1.0\\n    decay_mult: 1.0\\n  }\\n  param {\\n    lr_mult: 2.0\\n    decay_mult: 0.0\\n  }\\n  convolution_param {\\n    num_output: 24\\n    kernel_size: 1\\n    weight_filler {\\n      type: \"msra\"\\n    }\\n    bias_filler {\\n      type: \"constant\"\\n      value: 0.0\\n    }\\n  }\\n}\\nlayer {\\n  name: \"conv16_2_mbox_loc_perm\"\\n  type: \"Permute\"\\n  bottom: \"conv16_2_mbox_loc\"\\n  top: \"conv16_2_mbox_loc_perm\"\\n  permute_param {\\n    order: 0\\n    order: 2\\n    order: 3\\n    order: 1\\n  }\\n}\\nlayer {\\n  name: \"conv16_2_mbox_loc_flat\"\\n  type: \"Flatten\"\\n  bottom: \"conv16_2_mbox_loc_perm\"\\n  top: \"conv16_2_mbox_loc_flat\"\\n  flatten_param {\\n    axis: 1\\n  }\\n}\\nlayer {\\n  name: \"conv16_2_mbox_conf\"\\n  type: \"Convolution\"\\n  bottom: \"conv16_2\"\\n  top: \"conv16_2_mbox_conf\"\\n  param {\\n    lr_mult: 1.0\\n    decay_mult: 1.0\\n  }\\n  param {\\n    lr_mult: 2.0\\n    decay_mult: 0.0\\n  }\\n  convolution_param {\\n    num_output: 126\\n    kernel_size: 1\\n    weight_filler {\\n      type: \"msra\"\\n    }\\n    bias_filler {\\n      type: \"constant\"\\n      value: 0.0\\n    }\\n  }\\n}\\nlayer {\\n  name: \"conv16_2_mbox_conf_perm\"\\n  type: \"Permute\"\\n  bottom: \"conv16_2_mbox_conf\"\\n  top: \"conv16_2_mbox_conf_perm\"\\n  permute_param {\\n    order: 0\\n    order: 2\\n    order: 3\\n    order: 1\\n  }\\n}\\nlayer {\\n  name: \"conv16_2_mbox_conf_flat\"\\n  type: \"Flatten\"\\n  bottom: \"conv16_2_mbox_conf_perm\"\\n  top: \"conv16_2_mbox_conf_flat\"\\n  flatten_param {\\n    axis: 1\\n  }\\n}\\nlayer {\\n  name: \"conv16_2_mbox_priorbox\"\\n  type: \"PriorBox\"\\n  bottom: \"conv16_2\"\\n  bottom: \"data\"\\n  top: \"conv16_2_mbox_priorbox\"\\n  prior_box_param {\\n    min_size: 240.0\\n    max_size: 285.0\\n    aspect_ratio: 2.0\\n    aspect_ratio: 3.0\\n    flip: true\\n    clip: false\\n    variance: 0.1\\n    variance: 0.1\\n    variance: 0.2\\n    variance: 0.2\\n    offset: 0.5\\n  }\\n}\\nlayer {\\n  name: \"conv17_2_mbox_loc\"\\n  type: \"Convolution\"\\n  bottom: \"conv17_2\"\\n  top: \"conv17_2_mbox_loc\"\\n  param {\\n    lr_mult: 1.0\\n    decay_mult: 1.0\\n  }\\n  param {\\n    lr_mult: 2.0\\n    decay_mult: 0.0\\n  }\\n  convolution_param {\\n    num_output: 24\\n    kernel_size: 1\\n    weight_filler {\\n      type: \"msra\"\\n    }\\n    bias_filler {\\n      type: \"constant\"\\n      value: 0.0\\n    }\\n  }\\n}\\nlayer {\\n  name: \"conv17_2_mbox_loc_perm\"\\n  type: \"Permute\"\\n  bottom: \"conv17_2_mbox_loc\"\\n  top: \"conv17_2_mbox_loc_perm\"\\n  permute_param {\\n    order: 0\\n    order: 2\\n    order: 3\\n    order: 1\\n  }\\n}\\nlayer {\\n  name: \"conv17_2_mbox_loc_flat\"\\n  type: \"Flatten\"\\n  bottom: \"conv17_2_mbox_loc_perm\"\\n  top: \"conv17_2_mbox_loc_flat\"\\n  flatten_param {\\n    axis: 1\\n  }\\n}\\nlayer {\\n  name: \"conv17_2_mbox_conf\"\\n  type: \"Convolution\"\\n  bottom: \"conv17_2\"\\n  top: \"conv17_2_mbox_conf\"\\n  param {\\n    lr_mult: 1.0\\n    decay_mult: 1.0\\n  }\\n  param {\\n    lr_mult: 2.0\\n    decay_mult: 0.0\\n  }\\n  convolution_param {\\n    num_output: 126\\n    kernel_size: 1\\n    weight_filler {\\n      type: \"msra\"\\n    }\\n    bias_filler {\\n      type: \"constant\"\\n      value: 0.0\\n    }\\n  }\\n}\\nlayer {\\n  name: \"conv17_2_mbox_conf_perm\"\\n  type: \"Permute\"\\n  bottom: \"conv17_2_mbox_conf\"\\n  top: \"conv17_2_mbox_conf_perm\"\\n  permute_param {\\n    order: 0\\n    order: 2\\n    order: 3\\n    order: 1\\n  }\\n}\\nlayer {\\n  name: \"conv17_2_mbox_conf_flat\"\\n  type: \"Flatten\"\\n  bottom: \"conv17_2_mbox_conf_perm\"\\n  top: \"conv17_2_mbox_conf_flat\"\\n  flatten_param {\\n    axis: 1\\n  }\\n}\\nlayer {\\n  name: \"conv17_2_mbox_priorbox\"\\n  type: \"PriorBox\"\\n  bottom: \"conv17_2\"\\n  bottom: \"data\"\\n  top: \"conv17_2_mbox_priorbox\"\\n  prior_box_param {\\n    min_size: 285.0\\n    max_size: 300.0\\n    aspect_ratio: 2.0\\n    aspect_ratio: 3.0\\n    flip: true\\n    clip: false\\n    variance: 0.1\\n    variance: 0.1\\n    variance: 0.2\\n    variance: 0.2\\n    offset: 0.5\\n  }\\n}\\nlayer {\\n  name: \"mbox_loc\"\\n  type: \"Concat\"\\n  bottom: \"conv11_mbox_loc_flat\"\\n  bottom: \"conv13_mbox_loc_flat\"\\n  bottom: \"conv14_2_mbox_loc_flat\"\\n  bottom: \"conv15_2_mbox_loc_flat\"\\n  bottom: \"conv16_2_mbox_loc_flat\"\\n  bottom: \"conv17_2_mbox_loc_flat\"\\n  top: \"mbox_loc\"\\n  concat_param {\\n    axis: 1\\n  }\\n}\\nlayer {\\n  name: \"mbox_conf\"\\n  type: \"Concat\"\\n  bottom: \"conv11_mbox_conf_flat\"\\n  bottom: \"conv13_mbox_conf_flat\"\\n  bottom: \"conv14_2_mbox_conf_flat\"\\n  bottom: \"conv15_2_mbox_conf_flat\"\\n  bottom: \"conv16_2_mbox_conf_flat\"\\n  bottom: \"conv17_2_mbox_conf_flat\"\\n  top: \"mbox_conf\"\\n  concat_param {\\n    axis: 1\\n  }\\n}\\nlayer {\\n  name: \"mbox_priorbox\"\\n  type: \"Concat\"\\n  bottom: \"conv11_mbox_priorbox\"\\n  bottom: \"conv13_mbox_priorbox\"\\n  bottom: \"conv14_2_mbox_priorbox\"\\n  bottom: \"conv15_2_mbox_priorbox\"\\n  bottom: \"conv16_2_mbox_priorbox\"\\n  bottom: \"conv17_2_mbox_priorbox\"\\n  top: \"mbox_priorbox\"\\n  concat_param {\\n    axis: 2\\n  }\\n}\\nlayer {\\n  name: \"mbox_conf_reshape\"\\n  type: \"Reshape\"\\n  bottom: \"mbox_conf\"\\n  top: \"mbox_conf_reshape\"\\n  reshape_param {\\n    shape {\\n      dim: 0\\n      dim: -1\\n      dim: 21\\n    }\\n  }\\n}\\nlayer {\\n  name: \"mbox_conf_softmax\"\\n  type: \"Softmax\"\\n  bottom: \"mbox_conf_reshape\"\\n  top: \"mbox_conf_softmax\"\\n  softmax_param {\\n    axis: 2\\n  }\\n}\\nlayer {\\n  name: \"mbox_conf_flatten\"\\n  type: \"Flatten\"\\n  bottom: \"mbox_conf_softmax\"\\n  top: \"mbox_conf_flatten\"\\n  flatten_param {\\n    axis: 1\\n  }\\n}\\nlayer {\\n  name: \"detection_out\"\\n  type: \"DetectionOutput\"\\n  bottom: \"mbox_loc\"\\n  bottom: \"mbox_conf_flatten\"\\n  bottom: \"mbox_priorbox\"\\n  top: \"detection_out\"\\n  include {\\n    phase: TEST\\n  }\\n  detection_output_param {\\n    num_classes: 21\\n    share_location: true\\n    background_label_id: 0\\n    nms_param {\\n      nms_threshold: 0.45\\n      top_k: 100\\n    }\\n    code_type: CENTER_SIZE\\n    keep_top_k: 100\\n    confidence_threshold: 0.25\\n  }\\n}\\n'}"
            ]
          },
          "metadata": {},
          "execution_count": 2
        }
      ]
    },
    {
      "cell_type": "code",
      "source": [
        "args = {\n",
        "    \"gif\": \"/content/real_time.gif\",\n",
        "    \"prototxt\" : \"/content/MobileNetSSD_deploy.prototxt.txt\",\n",
        "    \"model\": \"/content/MobileNetSSD_deploy.caffemodel\",\n",
        "    \"confidence\": 0.5\n",
        "}"
      ],
      "metadata": {
        "id": "Jh8bv_pLsoAa"
      },
      "execution_count": null,
      "outputs": []
    },
    {
      "cell_type": "code",
      "source": [
        "CLASSES = [\n",
        "    \"background\", \"aeroplane\", \"bicycle\", \"bird\", \"boat\", \"bottle\", \"bus\",\n",
        "    \"car\", \"cat\", \"chair\", \"cow\", \"diningtable\", \"dog\", \"horse\", \"motorbike\",\n",
        "    \"person\", \"pottedplant\", \"sheep\", \"sofa\", \"train\", \"tvmonitor\"\n",
        "]\n",
        "COLORS = np.random.uniform(0, 255, size=(len(CLASSES), 3))"
      ],
      "metadata": {
        "id": "N007sa-9tqzS"
      },
      "execution_count": null,
      "outputs": []
    },
    {
      "cell_type": "code",
      "source": [
        "print(\"[INFO] Loading model from disk...\")\n",
        "net = cv2.dnn.readNetFromCaffe(args[\"prototxt\"], args[\"model\"])"
      ],
      "metadata": {
        "colab": {
          "base_uri": "https://localhost:8080/"
        },
        "id": "66L7EZoouKwa",
        "outputId": "fe3dce98-2124-431b-c248-7d85290c4b3d"
      },
      "execution_count": null,
      "outputs": [
        {
          "output_type": "stream",
          "name": "stdout",
          "text": [
            "[INFO] Loading model from disk...\n"
          ]
        }
      ]
    },
    {
      "cell_type": "code",
      "source": [
        "fps = FPS().start()"
      ],
      "metadata": {
        "id": "wpsRSNluuK3g"
      },
      "execution_count": null,
      "outputs": []
    },
    {
      "cell_type": "code",
      "source": [
        "print(\"[INFO] processing GIF...\")\n",
        "gif = Image.open(args[\"gif\"])"
      ],
      "metadata": {
        "colab": {
          "base_uri": "https://localhost:8080/"
        },
        "id": "G3A5S96nuqUp",
        "outputId": "4a41cc18-1e56-45fa-a613-acd039e42786"
      },
      "execution_count": null,
      "outputs": [
        {
          "output_type": "stream",
          "name": "stdout",
          "text": [
            "[INFO] processing GIF...\n"
          ]
        }
      ]
    },
    {
      "cell_type": "code",
      "source": [
        "# loop over the frames from the GIF\n",
        "for frame_pil in ImageSequence.Iterator(gif):\n",
        "\t# grab the frame from the GIF and resize it\n",
        "\t# to have a maximum width of 400 pixels.\n",
        "\t# Convert the PIL Image to an OpenCV-compatible format (NumPy array)\n",
        "\t# and then from RGB (Pillow) to BGR (OpenCV).\n",
        "\tframe = np.array(frame_pil.convert('RGB'))\n",
        "\tframe = cv2.cvtColor(frame, cv2.COLOR_RGB2BGR)\n",
        "\tframe = imutils.resize(frame, width=400)\n",
        "\n",
        "\t# grab the frame dimensions and convert it to a blob\n",
        "\t(h, w) = frame.shape[:2]\n",
        "\tblob = cv2.dnn.blobFromImage(cv2.resize(frame, (300, 300)),\n",
        "\t\t0.007843, (300, 300), 127.5)\n",
        "\n",
        "\t# pass the blob through the network and obtain the detections and\n",
        "\t# predictions\n",
        "\tnet.setInput(blob)\n",
        "\tdetections = net.forward()\n",
        "\n",
        "\t# loop over the detections\n",
        "\tfor i in np.arange(0, detections.shape[2]):\n",
        "\t\t# extract the confidence (i.e., probability) associated with\n",
        "\t\t# the prediction\n",
        "\t\tconfidence = detections[0, 0, i, 2]\n",
        "\n",
        "\t\t# filter out weak detections by ensuring the confidence is\n",
        "\t\t# greater than the minimum confidence\n",
        "\t\tif confidence > args[\"confidence\"]:\n",
        "\t\t\t# extract the index of the class label from the\n",
        "\t\t\t# detections, then compute the (x, y)-coordinates of\n",
        "\t\t\t# the bounding box for the object\n",
        "\t\t\tidx = int(detections[0, 0, i, 1])\n",
        "\t\t\tbox = detections[0, 0, i, 3:7] * np.array([w, h, w, h])\n",
        "\t\t\t(startX, startY, endX, endY) = box.astype(\"int\")\n",
        "\n",
        "\t\t\t# draw the prediction on the frame\n",
        "\t\t\tlabel = \"{}: {:.2f}%\".format(CLASSES[idx],\n",
        "\t\t\t\tconfidence * 100)\n",
        "\t\t\tcv2.rectangle(frame, (startX, startY), (endX, endY),\n",
        "\t\t\t\tCOLORS[idx], 2)\n",
        "\t\t\ty = startY - 15 if startY - 15 > 15 else startY + 15\n",
        "\t\t\tcv2.putText(frame, label, (startX, y),\n",
        "\t\t\t\tcv2.FONT_HERSHEY_SIMPLEX, 0.5, COLORS[idx], 2)\n",
        "\n",
        "\t# show the output frame\n",
        "\tcv2_imshow(frame)\n",
        "\t# Use a small waitKey delay to show the GIF at a viewable speed\n",
        "\tkey = cv2.waitKey(40) & 0xFF\n",
        "\n",
        "\t# if the q key was pressed, break from the loop\n",
        "\tif key == ord(\"q\"):\n",
        "\t\tbreak\n",
        "\n",
        "\t# update the FPS counter\n",
        "\tfps.update()\n",
        "\n",
        "# stop the timer and display FPS information\n",
        "fps.stop()\n",
        "print(\"[INFO] elapsed time: {:.2f}\".format(fps.elapsed()))\n",
        "print(\"[INFO] approx. FPS: {:.2f}\".format(fps.fps()))\n",
        "\n",
        "# do a bit of cleanup\n",
        "cv2.destroyAllWindows()"
      ],
      "metadata": {
        "colab": {
          "base_uri": "https://localhost:8080/",
          "height": 1000
        },
        "id": "MCn8Aeq5u_VT",
        "outputId": "05c149d9-afb8-4861-b9d7-c7a1e9f20292"
      },
      "execution_count": null,
      "outputs": []
    }
  ]
}